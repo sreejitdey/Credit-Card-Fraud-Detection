{
 "cells": [
  {
   "cell_type": "markdown",
   "metadata": {},
   "source": [
    "# BUILDING THE TRAINED MODEL"
   ]
  },
  {
   "cell_type": "markdown",
   "metadata": {},
   "source": [
    "DATA PREPROCESSING"
   ]
  },
  {
   "cell_type": "code",
   "execution_count": 1,
   "metadata": {},
   "outputs": [],
   "source": [
    "import pandas as pd"
   ]
  },
  {
   "cell_type": "code",
   "execution_count": 2,
   "metadata": {},
   "outputs": [],
   "source": [
    "dataset = pd.read_csv('../dataset/train_dataset.csv', index_col = 0)"
   ]
  },
  {
   "cell_type": "code",
   "execution_count": 3,
   "metadata": {},
   "outputs": [
    {
     "data": {
      "text/html": [
       "<div>\n",
       "<style scoped>\n",
       "    .dataframe tbody tr th:only-of-type {\n",
       "        vertical-align: middle;\n",
       "    }\n",
       "\n",
       "    .dataframe tbody tr th {\n",
       "        vertical-align: top;\n",
       "    }\n",
       "\n",
       "    .dataframe thead th {\n",
       "        text-align: right;\n",
       "    }\n",
       "</style>\n",
       "<table border=\"1\" class=\"dataframe\">\n",
       "  <thead>\n",
       "    <tr style=\"text-align: right;\">\n",
       "      <th></th>\n",
       "      <th>trans_hour</th>\n",
       "      <th>trans_day</th>\n",
       "      <th>trans_month</th>\n",
       "      <th>trans_year</th>\n",
       "      <th>category</th>\n",
       "      <th>card_number</th>\n",
       "      <th>age</th>\n",
       "      <th>trans_amount</th>\n",
       "      <th>state</th>\n",
       "      <th>zip</th>\n",
       "      <th>fraud_risk</th>\n",
       "    </tr>\n",
       "  </thead>\n",
       "  <tbody>\n",
       "    <tr>\n",
       "      <th>0</th>\n",
       "      <td>0</td>\n",
       "      <td>1</td>\n",
       "      <td>1</td>\n",
       "      <td>2019</td>\n",
       "      <td>12</td>\n",
       "      <td>6.300000e+11</td>\n",
       "      <td>54</td>\n",
       "      <td>66.21</td>\n",
       "      <td>22</td>\n",
       "      <td>49879</td>\n",
       "      <td>0</td>\n",
       "    </tr>\n",
       "    <tr>\n",
       "      <th>1</th>\n",
       "      <td>1</td>\n",
       "      <td>1</td>\n",
       "      <td>1</td>\n",
       "      <td>2019</td>\n",
       "      <td>3</td>\n",
       "      <td>3.540000e+15</td>\n",
       "      <td>15</td>\n",
       "      <td>55.81</td>\n",
       "      <td>14</td>\n",
       "      <td>62668</td>\n",
       "      <td>0</td>\n",
       "    </tr>\n",
       "    <tr>\n",
       "      <th>2</th>\n",
       "      <td>3</td>\n",
       "      <td>1</td>\n",
       "      <td>1</td>\n",
       "      <td>2019</td>\n",
       "      <td>8</td>\n",
       "      <td>5.020000e+11</td>\n",
       "      <td>60</td>\n",
       "      <td>8.68</td>\n",
       "      <td>4</td>\n",
       "      <td>96037</td>\n",
       "      <td>0</td>\n",
       "    </tr>\n",
       "    <tr>\n",
       "      <th>3</th>\n",
       "      <td>6</td>\n",
       "      <td>1</td>\n",
       "      <td>1</td>\n",
       "      <td>2019</td>\n",
       "      <td>4</td>\n",
       "      <td>3.530000e+15</td>\n",
       "      <td>44</td>\n",
       "      <td>89.52</td>\n",
       "      <td>40</td>\n",
       "      <td>29911</td>\n",
       "      <td>0</td>\n",
       "    </tr>\n",
       "    <tr>\n",
       "      <th>4</th>\n",
       "      <td>6</td>\n",
       "      <td>1</td>\n",
       "      <td>1</td>\n",
       "      <td>2019</td>\n",
       "      <td>0</td>\n",
       "      <td>2.350000e+15</td>\n",
       "      <td>72</td>\n",
       "      <td>1.90</td>\n",
       "      <td>38</td>\n",
       "      <td>16421</td>\n",
       "      <td>0</td>\n",
       "    </tr>\n",
       "  </tbody>\n",
       "</table>\n",
       "</div>"
      ],
      "text/plain": [
       "   trans_hour  trans_day  trans_month  trans_year  category   card_number  \\\n",
       "0           0          1            1        2019        12  6.300000e+11   \n",
       "1           1          1            1        2019         3  3.540000e+15   \n",
       "2           3          1            1        2019         8  5.020000e+11   \n",
       "3           6          1            1        2019         4  3.530000e+15   \n",
       "4           6          1            1        2019         0  2.350000e+15   \n",
       "\n",
       "   age  trans_amount  state    zip  fraud_risk  \n",
       "0   54         66.21     22  49879           0  \n",
       "1   15         55.81     14  62668           0  \n",
       "2   60          8.68      4  96037           0  \n",
       "3   44         89.52     40  29911           0  \n",
       "4   72          1.90     38  16421           0  "
      ]
     },
     "execution_count": 3,
     "metadata": {},
     "output_type": "execute_result"
    }
   ],
   "source": [
    "dataset.head()"
   ]
  },
  {
   "cell_type": "code",
   "execution_count": 4,
   "metadata": {},
   "outputs": [],
   "source": [
    "import numpy as np"
   ]
  },
  {
   "cell_type": "code",
   "execution_count": 5,
   "metadata": {},
   "outputs": [],
   "source": [
    "x = dataset.iloc[ : , : 10].values\n",
    "y = dataset.iloc[ : , 10].values"
   ]
  },
  {
   "cell_type": "code",
   "execution_count": 6,
   "metadata": {},
   "outputs": [],
   "source": [
    "from sklearn.model_selection import train_test_split"
   ]
  },
  {
   "cell_type": "code",
   "execution_count": 7,
   "metadata": {},
   "outputs": [],
   "source": [
    "x_train, x_test, y_train, y_test = train_test_split(x, y, test_size = 0.15, random_state = 0)"
   ]
  },
  {
   "cell_type": "code",
   "execution_count": 8,
   "metadata": {},
   "outputs": [
    {
     "data": {
      "text/plain": [
       "(10210, 10)"
      ]
     },
     "execution_count": 8,
     "metadata": {},
     "output_type": "execute_result"
    }
   ],
   "source": [
    "x_train.shape"
   ]
  },
  {
   "cell_type": "code",
   "execution_count": 9,
   "metadata": {},
   "outputs": [
    {
     "data": {
      "text/plain": [
       "(1802, 10)"
      ]
     },
     "execution_count": 9,
     "metadata": {},
     "output_type": "execute_result"
    }
   ],
   "source": [
    "x_test.shape"
   ]
  },
  {
   "cell_type": "code",
   "execution_count": 10,
   "metadata": {},
   "outputs": [],
   "source": [
    "fraud = np.count_nonzero(y_train == 1)\n",
    "valid = np.count_nonzero(y_train == 0)"
   ]
  },
  {
   "cell_type": "code",
   "execution_count": 11,
   "metadata": {
    "scrolled": true
   },
   "outputs": [
    {
     "name": "stdout",
     "output_type": "stream",
     "text": [
      "Fraud cases in training data = 5106\n",
      "Valid cases in training data = 5104\n"
     ]
    }
   ],
   "source": [
    "print('Fraud cases in training data =', fraud)\n",
    "print('Valid cases in training data =', valid)"
   ]
  },
  {
   "cell_type": "code",
   "execution_count": 12,
   "metadata": {},
   "outputs": [],
   "source": [
    "from sklearn.preprocessing import StandardScaler\n",
    "scaler = StandardScaler()"
   ]
  },
  {
   "cell_type": "code",
   "execution_count": 13,
   "metadata": {},
   "outputs": [],
   "source": [
    "x_train = scaler.fit_transform(x_train)\n",
    "x_test = scaler.transform(x_test)"
   ]
  },
  {
   "cell_type": "code",
   "execution_count": 14,
   "metadata": {
    "scrolled": true
   },
   "outputs": [
    {
     "data": {
      "text/plain": [
       "array([[ 0.66337259,  1.24104545,  0.45653094, -0.37826057,  0.83408097,\n",
       "        -0.30554032,  2.3966382 , -0.73068363,  0.0181697 , -0.77660466],\n",
       "       [-1.6023747 , -0.07304053, -0.90455674, -0.37826057, -1.22335066,\n",
       "        -0.30836573,  0.74498916, -0.74861649,  0.64443135,  0.93890762],\n",
       "       [-1.12537527,  0.1459738 ,  0.45653094, -0.37826057,  0.57690202,\n",
       "        -0.30362247,  1.18542891, -0.79511806,  0.78360061, -1.2179066 ],\n",
       "       [-1.6023747 , -0.29205486, -0.36012167, -0.37826057, -0.70899275,\n",
       "        -0.30397763,  1.46070375, -0.51118115, -1.58227676,  1.76478537],\n",
       "       [-0.7676257 , -0.29205486, -1.44899181, -0.37826057, -0.70899275,\n",
       "        -0.30836532, -0.08083536,  0.02559291,  0.78360061, -1.18526965]])"
      ]
     },
     "execution_count": 14,
     "metadata": {},
     "output_type": "execute_result"
    }
   ],
   "source": [
    "x_train[ : 5]"
   ]
  },
  {
   "cell_type": "code",
   "execution_count": 15,
   "metadata": {},
   "outputs": [
    {
     "data": {
      "text/plain": [
       "array([[ 1.02112216, -0.51106919,  1.27318354, -0.37826057,  1.34843888,\n",
       "         3.15638262,  0.35960438,  1.60624238,  0.64443135,  0.91726066],\n",
       "       [-0.05212655,  0.58400246,  0.1843134 , -0.37826057,  0.83408097,\n",
       "        -0.30822372, -0.08083536, -0.65192446,  0.29650821, -1.52769864],\n",
       "       [ 1.14037202,  1.56956694,  0.72874847, -0.37826057,  1.09125992,\n",
       "        -0.30560345,  1.29553884,  1.71351642,  1.13152375,  1.07356281],\n",
       "       [ 1.02112216, -0.73008352,  0.1843134 , -0.37826057,  1.09125992,\n",
       "        -0.30500363,  1.51575871,  1.6205402 ,  0.15733896,  0.77172649],\n",
       "       [-1.6023747 , -0.07304053, -0.08790413, -0.37826057,  1.34843888,\n",
       "        -0.30819767,  0.80004413, -0.06571388, -0.60809196,  0.84854544]])"
      ]
     },
     "execution_count": 15,
     "metadata": {},
     "output_type": "execute_result"
    }
   ],
   "source": [
    "x_test[ : 5]"
   ]
  },
  {
   "cell_type": "markdown",
   "metadata": {},
   "source": [
    "LOGISTIC REGRESSION (LR)"
   ]
  },
  {
   "cell_type": "code",
   "execution_count": 16,
   "metadata": {},
   "outputs": [
    {
     "data": {
      "text/plain": [
       "LogisticRegression(random_state=0)"
      ]
     },
     "execution_count": 16,
     "metadata": {},
     "output_type": "execute_result"
    }
   ],
   "source": [
    "from sklearn.linear_model import LogisticRegression\n",
    "LR_model = LogisticRegression(random_state = 0)\n",
    "LR_model.fit(x_train, y_train)"
   ]
  },
  {
   "cell_type": "code",
   "execution_count": 17,
   "metadata": {},
   "outputs": [],
   "source": [
    "y_pred = LR_model.predict(x_test)"
   ]
  },
  {
   "cell_type": "code",
   "execution_count": 18,
   "metadata": {},
   "outputs": [],
   "source": [
    "from sklearn.metrics import accuracy_score"
   ]
  },
  {
   "cell_type": "code",
   "execution_count": 19,
   "metadata": {},
   "outputs": [],
   "source": [
    "acc_lr = accuracy_score(y_test, y_pred)"
   ]
  },
  {
   "cell_type": "code",
   "execution_count": 20,
   "metadata": {},
   "outputs": [
    {
     "name": "stdout",
     "output_type": "stream",
     "text": [
      "0.8485016648168702\n"
     ]
    }
   ],
   "source": [
    "print(acc_lr)"
   ]
  },
  {
   "cell_type": "markdown",
   "metadata": {},
   "source": [
    "K-NEAREST NEIGHBORS (KNN)"
   ]
  },
  {
   "cell_type": "code",
   "execution_count": 21,
   "metadata": {},
   "outputs": [
    {
     "data": {
      "text/plain": [
       "KNeighborsClassifier()"
      ]
     },
     "execution_count": 21,
     "metadata": {},
     "output_type": "execute_result"
    }
   ],
   "source": [
    "from sklearn.neighbors import KNeighborsClassifier\n",
    "KNN_model = KNeighborsClassifier(n_neighbors = 5, metric = 'minkowski', p = 2)\n",
    "KNN_model.fit(x_train, y_train)"
   ]
  },
  {
   "cell_type": "code",
   "execution_count": 22,
   "metadata": {},
   "outputs": [],
   "source": [
    "y_pred = KNN_model.predict(x_test)"
   ]
  },
  {
   "cell_type": "code",
   "execution_count": 23,
   "metadata": {},
   "outputs": [],
   "source": [
    "acc_knn = accuracy_score(y_test, y_pred)"
   ]
  },
  {
   "cell_type": "code",
   "execution_count": 24,
   "metadata": {},
   "outputs": [
    {
     "name": "stdout",
     "output_type": "stream",
     "text": [
      "0.8657047724750278\n"
     ]
    }
   ],
   "source": [
    "print(acc_knn)"
   ]
  },
  {
   "cell_type": "markdown",
   "metadata": {},
   "source": [
    "SUPPORT VECTOR MACHINE (SVM)"
   ]
  },
  {
   "cell_type": "code",
   "execution_count": 25,
   "metadata": {},
   "outputs": [
    {
     "data": {
      "text/plain": [
       "SVC(kernel='linear', random_state=0)"
      ]
     },
     "execution_count": 25,
     "metadata": {},
     "output_type": "execute_result"
    }
   ],
   "source": [
    "from sklearn.svm import SVC\n",
    "SVM_model = SVC(kernel = 'linear', random_state = 0)\n",
    "SVM_model.fit(x_train, y_train)"
   ]
  },
  {
   "cell_type": "code",
   "execution_count": 26,
   "metadata": {},
   "outputs": [],
   "source": [
    "y_pred = SVM_model.predict(x_test)"
   ]
  },
  {
   "cell_type": "code",
   "execution_count": 27,
   "metadata": {
    "scrolled": false
   },
   "outputs": [],
   "source": [
    "acc_svm = accuracy_score(y_test, y_pred)"
   ]
  },
  {
   "cell_type": "code",
   "execution_count": 28,
   "metadata": {},
   "outputs": [
    {
     "name": "stdout",
     "output_type": "stream",
     "text": [
      "0.8479467258601554\n"
     ]
    }
   ],
   "source": [
    "print(acc_svm)"
   ]
  },
  {
   "cell_type": "markdown",
   "metadata": {},
   "source": [
    "NAIVE BAYES (NB)"
   ]
  },
  {
   "cell_type": "code",
   "execution_count": 29,
   "metadata": {},
   "outputs": [
    {
     "data": {
      "text/plain": [
       "GaussianNB()"
      ]
     },
     "execution_count": 29,
     "metadata": {},
     "output_type": "execute_result"
    }
   ],
   "source": [
    "from sklearn.naive_bayes import GaussianNB\n",
    "NB_model = GaussianNB()\n",
    "NB_model.fit(x_train, y_train)"
   ]
  },
  {
   "cell_type": "code",
   "execution_count": 30,
   "metadata": {},
   "outputs": [],
   "source": [
    "y_pred = NB_model.predict(x_test)"
   ]
  },
  {
   "cell_type": "code",
   "execution_count": 31,
   "metadata": {},
   "outputs": [],
   "source": [
    "acc_nb = accuracy_score(y_test, y_pred)"
   ]
  },
  {
   "cell_type": "code",
   "execution_count": 32,
   "metadata": {},
   "outputs": [
    {
     "name": "stdout",
     "output_type": "stream",
     "text": [
      "0.8496115427302997\n"
     ]
    }
   ],
   "source": [
    "print(acc_nb)"
   ]
  },
  {
   "cell_type": "markdown",
   "metadata": {},
   "source": [
    "DECISION TREE (DT)"
   ]
  },
  {
   "cell_type": "code",
   "execution_count": 33,
   "metadata": {},
   "outputs": [
    {
     "data": {
      "text/plain": [
       "DecisionTreeClassifier(criterion='entropy', random_state=0)"
      ]
     },
     "execution_count": 33,
     "metadata": {},
     "output_type": "execute_result"
    }
   ],
   "source": [
    "from sklearn.tree import DecisionTreeClassifier\n",
    "DT_model = DecisionTreeClassifier(criterion = 'entropy', random_state = 0)\n",
    "DT_model.fit(x_train, y_train)"
   ]
  },
  {
   "cell_type": "code",
   "execution_count": 34,
   "metadata": {},
   "outputs": [],
   "source": [
    "y_pred = DT_model.predict(x_test)"
   ]
  },
  {
   "cell_type": "code",
   "execution_count": 35,
   "metadata": {},
   "outputs": [],
   "source": [
    "acc_dt = accuracy_score(y_test, y_pred)"
   ]
  },
  {
   "cell_type": "code",
   "execution_count": 36,
   "metadata": {},
   "outputs": [
    {
     "name": "stdout",
     "output_type": "stream",
     "text": [
      "0.967258601553829\n"
     ]
    }
   ],
   "source": [
    "print(acc_dt)"
   ]
  },
  {
   "cell_type": "markdown",
   "metadata": {},
   "source": [
    "RANDOM FOREST (RF)"
   ]
  },
  {
   "cell_type": "code",
   "execution_count": 37,
   "metadata": {},
   "outputs": [
    {
     "data": {
      "text/plain": [
       "RandomForestClassifier()"
      ]
     },
     "execution_count": 37,
     "metadata": {},
     "output_type": "execute_result"
    }
   ],
   "source": [
    "from sklearn.ensemble import RandomForestClassifier\n",
    "RF_model = RandomForestClassifier()\n",
    "RF_model.fit(x_train, y_train)"
   ]
  },
  {
   "cell_type": "code",
   "execution_count": 38,
   "metadata": {},
   "outputs": [],
   "source": [
    "y_pred = RF_model.predict(x_test)"
   ]
  },
  {
   "cell_type": "code",
   "execution_count": 39,
   "metadata": {},
   "outputs": [],
   "source": [
    "acc_rf = accuracy_score(y_test, y_pred)"
   ]
  },
  {
   "cell_type": "code",
   "execution_count": 40,
   "metadata": {},
   "outputs": [
    {
     "name": "stdout",
     "output_type": "stream",
     "text": [
      "0.9705882352941176\n"
     ]
    }
   ],
   "source": [
    "print(acc_rf)"
   ]
  },
  {
   "cell_type": "markdown",
   "metadata": {},
   "source": [
    "ARTIFICIAL NEURAL NETWORK (ANN)"
   ]
  },
  {
   "cell_type": "code",
   "execution_count": 41,
   "metadata": {},
   "outputs": [],
   "source": [
    "import tensorflow as tf"
   ]
  },
  {
   "cell_type": "code",
   "execution_count": 42,
   "metadata": {},
   "outputs": [],
   "source": [
    "ANN_model = tf.keras.models.Sequential()"
   ]
  },
  {
   "cell_type": "code",
   "execution_count": 43,
   "metadata": {},
   "outputs": [],
   "source": [
    "ANN_model.add(tf.keras.layers.Dense(64, input_dim = 10, activation = 'relu'))\n",
    "ANN_model.add(tf.keras.layers.Dense(128, activation = 'relu'))\n",
    "ANN_model.add(tf.keras.layers.Dense(1, activation = 'sigmoid'))"
   ]
  },
  {
   "cell_type": "code",
   "execution_count": 44,
   "metadata": {},
   "outputs": [],
   "source": [
    "ANN_model.compile(optimizer = 'adam', loss = 'binary_crossentropy', metrics = ['accuracy'])"
   ]
  },
  {
   "cell_type": "code",
   "execution_count": 45,
   "metadata": {
    "scrolled": true
   },
   "outputs": [
    {
     "name": "stdout",
     "output_type": "stream",
     "text": [
      "Epoch 1/200\n",
      "320/320 [==============================] - 1s 1ms/step - loss: 0.4871 - accuracy: 0.7848\n",
      "Epoch 2/200\n",
      "320/320 [==============================] - 0s 1ms/step - loss: 0.3288 - accuracy: 0.8532\n",
      "Epoch 3/200\n",
      "320/320 [==============================] - 0s 1ms/step - loss: 0.3058 - accuracy: 0.8604\n",
      "Epoch 4/200\n",
      "320/320 [==============================] - 0s 1ms/step - loss: 0.3019 - accuracy: 0.8578\n",
      "Epoch 5/200\n",
      "320/320 [==============================] - 0s 1ms/step - loss: 0.2956 - accuracy: 0.8622\n",
      "Epoch 6/200\n",
      "320/320 [==============================] - 0s 1ms/step - loss: 0.2859 - accuracy: 0.8675\n",
      "Epoch 7/200\n",
      "320/320 [==============================] - 0s 1ms/step - loss: 0.2853 - accuracy: 0.8706\n",
      "Epoch 8/200\n",
      "320/320 [==============================] - 0s 1ms/step - loss: 0.2643 - accuracy: 0.8806\n",
      "Epoch 9/200\n",
      "320/320 [==============================] - 0s 1ms/step - loss: 0.2739 - accuracy: 0.8755\n",
      "Epoch 10/200\n",
      "320/320 [==============================] - 0s 1ms/step - loss: 0.2706 - accuracy: 0.8765\n",
      "Epoch 11/200\n",
      "320/320 [==============================] - 0s 1ms/step - loss: 0.2590 - accuracy: 0.8826\n",
      "Epoch 12/200\n",
      "320/320 [==============================] - 0s 1ms/step - loss: 0.2601 - accuracy: 0.8851\n",
      "Epoch 13/200\n",
      "320/320 [==============================] - 0s 1ms/step - loss: 0.2406 - accuracy: 0.8971\n",
      "Epoch 14/200\n",
      "320/320 [==============================] - 0s 1ms/step - loss: 0.2290 - accuracy: 0.9060\n",
      "Epoch 15/200\n",
      "320/320 [==============================] - 0s 1ms/step - loss: 0.2254 - accuracy: 0.9096\n",
      "Epoch 16/200\n",
      "320/320 [==============================] - ETA: 0s - loss: 0.2096 - accuracy: 0.91 - 0s 1ms/step - loss: 0.2097 - accuracy: 0.9156\n",
      "Epoch 17/200\n",
      "320/320 [==============================] - 0s 1ms/step - loss: 0.2094 - accuracy: 0.9132\n",
      "Epoch 18/200\n",
      "320/320 [==============================] - 0s 1ms/step - loss: 0.1947 - accuracy: 0.9230\n",
      "Epoch 19/200\n",
      "320/320 [==============================] - 0s 1ms/step - loss: 0.1955 - accuracy: 0.9206\n",
      "Epoch 20/200\n",
      "320/320 [==============================] - 0s 1ms/step - loss: 0.1868 - accuracy: 0.9309\n",
      "Epoch 21/200\n",
      "320/320 [==============================] - 0s 1ms/step - loss: 0.1732 - accuracy: 0.9318\n",
      "Epoch 22/200\n",
      "320/320 [==============================] - 0s 1ms/step - loss: 0.1698 - accuracy: 0.9302\n",
      "Epoch 23/200\n",
      "320/320 [==============================] - 0s 1ms/step - loss: 0.1753 - accuracy: 0.9272\n",
      "Epoch 24/200\n",
      "320/320 [==============================] - 0s 1ms/step - loss: 0.1633 - accuracy: 0.9363\n",
      "Epoch 25/200\n",
      "320/320 [==============================] - 0s 1ms/step - loss: 0.1552 - accuracy: 0.9382\n",
      "Epoch 26/200\n",
      "320/320 [==============================] - 0s 1ms/step - loss: 0.1541 - accuracy: 0.9405\n",
      "Epoch 27/200\n",
      "320/320 [==============================] - 0s 1ms/step - loss: 0.1529 - accuracy: 0.9411\n",
      "Epoch 28/200\n",
      "320/320 [==============================] - 0s 1ms/step - loss: 0.1526 - accuracy: 0.9409\n",
      "Epoch 29/200\n",
      "320/320 [==============================] - 0s 985us/step - loss: 0.1434 - accuracy: 0.9438\n",
      "Epoch 30/200\n",
      "320/320 [==============================] - 0s 1ms/step - loss: 0.1384 - accuracy: 0.9466\n",
      "Epoch 31/200\n",
      "320/320 [==============================] - 0s 1ms/step - loss: 0.1319 - accuracy: 0.9481\n",
      "Epoch 32/200\n",
      "320/320 [==============================] - 0s 1ms/step - loss: 0.1401 - accuracy: 0.9447\n",
      "Epoch 33/200\n",
      "320/320 [==============================] - 0s 995us/step - loss: 0.1318 - accuracy: 0.9484\n",
      "Epoch 34/200\n",
      "320/320 [==============================] - 0s 1ms/step - loss: 0.1246 - accuracy: 0.9519\n",
      "Epoch 35/200\n",
      "320/320 [==============================] - 0s 1ms/step - loss: 0.1233 - accuracy: 0.9534\n",
      "Epoch 36/200\n",
      "320/320 [==============================] - 0s 1ms/step - loss: 0.1247 - accuracy: 0.9502\n",
      "Epoch 37/200\n",
      "320/320 [==============================] - 0s 1ms/step - loss: 0.1296 - accuracy: 0.9467\n",
      "Epoch 38/200\n",
      "320/320 [==============================] - 0s 1ms/step - loss: 0.1399 - accuracy: 0.9414\n",
      "Epoch 39/200\n",
      "320/320 [==============================] - 0s 1ms/step - loss: 0.1210 - accuracy: 0.9517\n",
      "Epoch 40/200\n",
      "320/320 [==============================] - 0s 1ms/step - loss: 0.1194 - accuracy: 0.9515\n",
      "Epoch 41/200\n",
      "320/320 [==============================] - 0s 1ms/step - loss: 0.1158 - accuracy: 0.9559\n",
      "Epoch 42/200\n",
      "320/320 [==============================] - 0s 1ms/step - loss: 0.1188 - accuracy: 0.9526\n",
      "Epoch 43/200\n",
      "320/320 [==============================] - 0s 1ms/step - loss: 0.1130 - accuracy: 0.9553\n",
      "Epoch 44/200\n",
      "320/320 [==============================] - 0s 1ms/step - loss: 0.1144 - accuracy: 0.9560\n",
      "Epoch 45/200\n",
      "320/320 [==============================] - 0s 1ms/step - loss: 0.1209 - accuracy: 0.9546\n",
      "Epoch 46/200\n",
      "320/320 [==============================] - 0s 1ms/step - loss: 0.1094 - accuracy: 0.9572\n",
      "Epoch 47/200\n",
      "320/320 [==============================] - 0s 1ms/step - loss: 0.1043 - accuracy: 0.9597\n",
      "Epoch 48/200\n",
      "320/320 [==============================] - 0s 1ms/step - loss: 0.1227 - accuracy: 0.9505\n",
      "Epoch 49/200\n",
      "320/320 [==============================] - 0s 1ms/step - loss: 0.1125 - accuracy: 0.9558\n",
      "Epoch 50/200\n",
      "320/320 [==============================] - 0s 994us/step - loss: 0.1084 - accuracy: 0.9581\n",
      "Epoch 51/200\n",
      "320/320 [==============================] - 0s 1ms/step - loss: 0.1106 - accuracy: 0.9566\n",
      "Epoch 52/200\n",
      "320/320 [==============================] - 0s 1ms/step - loss: 0.1159 - accuracy: 0.9539\n",
      "Epoch 53/200\n",
      "320/320 [==============================] - 0s 1ms/step - loss: 0.1127 - accuracy: 0.9567\n",
      "Epoch 54/200\n",
      "320/320 [==============================] - 0s 1ms/step - loss: 0.1082 - accuracy: 0.9578\n",
      "Epoch 55/200\n",
      "320/320 [==============================] - 0s 1ms/step - loss: 0.1022 - accuracy: 0.9629\n",
      "Epoch 56/200\n",
      "320/320 [==============================] - 0s 1ms/step - loss: 0.1071 - accuracy: 0.9571\n",
      "Epoch 57/200\n",
      "320/320 [==============================] - 0s 1ms/step - loss: 0.0956 - accuracy: 0.9642\n",
      "Epoch 58/200\n",
      "320/320 [==============================] - 0s 1ms/step - loss: 0.1034 - accuracy: 0.9611\n",
      "Epoch 59/200\n",
      "320/320 [==============================] - 0s 1ms/step - loss: 0.1070 - accuracy: 0.9563\n",
      "Epoch 60/200\n",
      "320/320 [==============================] - 0s 1ms/step - loss: 0.0926 - accuracy: 0.9660\n",
      "Epoch 61/200\n",
      "320/320 [==============================] - 0s 1ms/step - loss: 0.0983 - accuracy: 0.9607\n",
      "Epoch 62/200\n",
      "320/320 [==============================] - 0s 1ms/step - loss: 0.0972 - accuracy: 0.9667\n",
      "Epoch 63/200\n",
      "320/320 [==============================] - 0s 1ms/step - loss: 0.1016 - accuracy: 0.9611\n",
      "Epoch 64/200\n",
      "320/320 [==============================] - 0s 1ms/step - loss: 0.0973 - accuracy: 0.9616\n",
      "Epoch 65/200\n",
      "320/320 [==============================] - 0s 1ms/step - loss: 0.0939 - accuracy: 0.9635\n",
      "Epoch 66/200\n",
      "320/320 [==============================] - 0s 1ms/step - loss: 0.0961 - accuracy: 0.9665\n",
      "Epoch 67/200\n",
      "320/320 [==============================] - 0s 1ms/step - loss: 0.0933 - accuracy: 0.9638\n",
      "Epoch 68/200\n",
      "320/320 [==============================] - 0s 1ms/step - loss: 0.0921 - accuracy: 0.9629\n",
      "Epoch 69/200\n",
      "320/320 [==============================] - 0s 1ms/step - loss: 0.0845 - accuracy: 0.9661\n",
      "Epoch 70/200\n",
      "320/320 [==============================] - 0s 1ms/step - loss: 0.0984 - accuracy: 0.9603\n",
      "Epoch 71/200\n",
      "320/320 [==============================] - 0s 1ms/step - loss: 0.0890 - accuracy: 0.9657\n",
      "Epoch 72/200\n",
      "320/320 [==============================] - 0s 1ms/step - loss: 0.0912 - accuracy: 0.9630\n",
      "Epoch 73/200\n",
      "320/320 [==============================] - 0s 1ms/step - loss: 0.0861 - accuracy: 0.9675\n",
      "Epoch 74/200\n",
      "320/320 [==============================] - 0s 1ms/step - loss: 0.0808 - accuracy: 0.9696\n",
      "Epoch 75/200\n",
      "320/320 [==============================] - 0s 1ms/step - loss: 0.0829 - accuracy: 0.9693\n",
      "Epoch 76/200\n",
      "320/320 [==============================] - 0s 1ms/step - loss: 0.0836 - accuracy: 0.9662\n",
      "Epoch 77/200\n",
      "320/320 [==============================] - 0s 1ms/step - loss: 0.0824 - accuracy: 0.9666\n",
      "Epoch 78/200\n",
      "320/320 [==============================] - 0s 1ms/step - loss: 0.0795 - accuracy: 0.9657\n",
      "Epoch 79/200\n",
      "320/320 [==============================] - 0s 1ms/step - loss: 0.0824 - accuracy: 0.9685\n",
      "Epoch 80/200\n"
     ]
    },
    {
     "name": "stdout",
     "output_type": "stream",
     "text": [
      "320/320 [==============================] - 0s 1ms/step - loss: 0.0773 - accuracy: 0.9698\n",
      "Epoch 81/200\n",
      "320/320 [==============================] - 0s 1ms/step - loss: 0.0744 - accuracy: 0.9726\n",
      "Epoch 82/200\n",
      "320/320 [==============================] - 0s 1ms/step - loss: 0.0757 - accuracy: 0.9732\n",
      "Epoch 83/200\n",
      "320/320 [==============================] - 0s 1ms/step - loss: 0.0779 - accuracy: 0.9677\n",
      "Epoch 84/200\n",
      "320/320 [==============================] - 0s 1ms/step - loss: 0.0790 - accuracy: 0.9659\n",
      "Epoch 85/200\n",
      "320/320 [==============================] - 0s 1ms/step - loss: 0.0828 - accuracy: 0.9653\n",
      "Epoch 86/200\n",
      "320/320 [==============================] - 0s 1ms/step - loss: 0.0807 - accuracy: 0.9665\n",
      "Epoch 87/200\n",
      "320/320 [==============================] - 0s 1ms/step - loss: 0.0759 - accuracy: 0.9681\n",
      "Epoch 88/200\n",
      "320/320 [==============================] - 0s 1ms/step - loss: 0.0761 - accuracy: 0.9709\n",
      "Epoch 89/200\n",
      "320/320 [==============================] - 0s 1ms/step - loss: 0.0809 - accuracy: 0.9682\n",
      "Epoch 90/200\n",
      "320/320 [==============================] - 0s 1ms/step - loss: 0.0744 - accuracy: 0.9723\n",
      "Epoch 91/200\n",
      "320/320 [==============================] - 0s 1ms/step - loss: 0.0739 - accuracy: 0.9720\n",
      "Epoch 92/200\n",
      "320/320 [==============================] - 0s 1ms/step - loss: 0.0714 - accuracy: 0.9738\n",
      "Epoch 93/200\n",
      "320/320 [==============================] - 0s 1ms/step - loss: 0.0713 - accuracy: 0.9732\n",
      "Epoch 94/200\n",
      "320/320 [==============================] - 0s 1ms/step - loss: 0.0964 - accuracy: 0.9623\n",
      "Epoch 95/200\n",
      "320/320 [==============================] - 0s 1ms/step - loss: 0.0727 - accuracy: 0.9721\n",
      "Epoch 96/200\n",
      "320/320 [==============================] - 0s 1ms/step - loss: 0.0678 - accuracy: 0.9731\n",
      "Epoch 97/200\n",
      "320/320 [==============================] - 0s 1ms/step - loss: 0.0976 - accuracy: 0.9663\n",
      "Epoch 98/200\n",
      "320/320 [==============================] - 0s 1ms/step - loss: 0.0671 - accuracy: 0.9730\n",
      "Epoch 99/200\n",
      "320/320 [==============================] - 0s 1ms/step - loss: 0.0750 - accuracy: 0.9694\n",
      "Epoch 100/200\n",
      "320/320 [==============================] - 0s 1ms/step - loss: 0.0634 - accuracy: 0.9781\n",
      "Epoch 101/200\n",
      "320/320 [==============================] - 0s 992us/step - loss: 0.0732 - accuracy: 0.9715\n",
      "Epoch 102/200\n",
      "320/320 [==============================] - 0s 1ms/step - loss: 0.0698 - accuracy: 0.9735\n",
      "Epoch 103/200\n",
      "320/320 [==============================] - 0s 1ms/step - loss: 0.0626 - accuracy: 0.9782\n",
      "Epoch 104/200\n",
      "320/320 [==============================] - 0s 1ms/step - loss: 0.0632 - accuracy: 0.9777\n",
      "Epoch 105/200\n",
      "320/320 [==============================] - 0s 1ms/step - loss: 0.0630 - accuracy: 0.9768\n",
      "Epoch 106/200\n",
      "320/320 [==============================] - 0s 1ms/step - loss: 0.0652 - accuracy: 0.9735\n",
      "Epoch 107/200\n",
      "320/320 [==============================] - 0s 1ms/step - loss: 0.0617 - accuracy: 0.9775\n",
      "Epoch 108/200\n",
      "320/320 [==============================] - 0s 1ms/step - loss: 0.0788 - accuracy: 0.9686\n",
      "Epoch 109/200\n",
      "320/320 [==============================] - 0s 1ms/step - loss: 0.0619 - accuracy: 0.9770\n",
      "Epoch 110/200\n",
      "320/320 [==============================] - 0s 1ms/step - loss: 0.0647 - accuracy: 0.9745\n",
      "Epoch 111/200\n",
      "320/320 [==============================] - 0s 1ms/step - loss: 0.0601 - accuracy: 0.9784\n",
      "Epoch 112/200\n",
      "320/320 [==============================] - 0s 1ms/step - loss: 0.0608 - accuracy: 0.9791\n",
      "Epoch 113/200\n",
      "320/320 [==============================] - 0s 1ms/step - loss: 0.0604 - accuracy: 0.9758\n",
      "Epoch 114/200\n",
      "320/320 [==============================] - 0s 1ms/step - loss: 0.0592 - accuracy: 0.9784\n",
      "Epoch 115/200\n",
      "320/320 [==============================] - 0s 1ms/step - loss: 0.0625 - accuracy: 0.9750\n",
      "Epoch 116/200\n",
      "320/320 [==============================] - 0s 1ms/step - loss: 0.0568 - accuracy: 0.9752\n",
      "Epoch 117/200\n",
      "320/320 [==============================] - 0s 1ms/step - loss: 0.0587 - accuracy: 0.9789\n",
      "Epoch 118/200\n",
      "320/320 [==============================] - 0s 1ms/step - loss: 0.0607 - accuracy: 0.9759\n",
      "Epoch 119/200\n",
      "320/320 [==============================] - 0s 1ms/step - loss: 0.0599 - accuracy: 0.9776\n",
      "Epoch 120/200\n",
      "320/320 [==============================] - 0s 1ms/step - loss: 0.0689 - accuracy: 0.9761\n",
      "Epoch 121/200\n",
      "320/320 [==============================] - 0s 1ms/step - loss: 0.0557 - accuracy: 0.9799\n",
      "Epoch 122/200\n",
      "320/320 [==============================] - 0s 1ms/step - loss: 0.0573 - accuracy: 0.9786\n",
      "Epoch 123/200\n",
      "320/320 [==============================] - 0s 1ms/step - loss: 0.0588 - accuracy: 0.9779\n",
      "Epoch 124/200\n",
      "320/320 [==============================] - 0s 1ms/step - loss: 0.0577 - accuracy: 0.9785\n",
      "Epoch 125/200\n",
      "320/320 [==============================] - 0s 1ms/step - loss: 0.0690 - accuracy: 0.9728\n",
      "Epoch 126/200\n",
      "320/320 [==============================] - 0s 1ms/step - loss: 0.0522 - accuracy: 0.9803\n",
      "Epoch 127/200\n",
      "320/320 [==============================] - 0s 1ms/step - loss: 0.0624 - accuracy: 0.9742\n",
      "Epoch 128/200\n",
      "320/320 [==============================] - 0s 1ms/step - loss: 0.0519 - accuracy: 0.9783\n",
      "Epoch 129/200\n",
      "320/320 [==============================] - 0s 1ms/step - loss: 0.0503 - accuracy: 0.9826\n",
      "Epoch 130/200\n",
      "320/320 [==============================] - 0s 1ms/step - loss: 0.0450 - accuracy: 0.9845\n",
      "Epoch 131/200\n",
      "320/320 [==============================] - 0s 1ms/step - loss: 0.0648 - accuracy: 0.9751\n",
      "Epoch 132/200\n",
      "320/320 [==============================] - 0s 1ms/step - loss: 0.0509 - accuracy: 0.9800\n",
      "Epoch 133/200\n",
      "320/320 [==============================] - 0s 1ms/step - loss: 0.0480 - accuracy: 0.9816\n",
      "Epoch 134/200\n",
      "320/320 [==============================] - 0s 1ms/step - loss: 0.0481 - accuracy: 0.9823\n",
      "Epoch 135/200\n",
      "320/320 [==============================] - 0s 1ms/step - loss: 0.0543 - accuracy: 0.9772\n",
      "Epoch 136/200\n",
      "320/320 [==============================] - 0s 1ms/step - loss: 0.0500 - accuracy: 0.9821\n",
      "Epoch 137/200\n",
      "320/320 [==============================] - 0s 1ms/step - loss: 0.0437 - accuracy: 0.9834\n",
      "Epoch 138/200\n",
      "320/320 [==============================] - 0s 1ms/step - loss: 0.0465 - accuracy: 0.9828\n",
      "Epoch 139/200\n",
      "320/320 [==============================] - 0s 1ms/step - loss: 0.0465 - accuracy: 0.9819\n",
      "Epoch 140/200\n",
      "320/320 [==============================] - 0s 1ms/step - loss: 0.0502 - accuracy: 0.9818\n",
      "Epoch 141/200\n",
      "320/320 [==============================] - 0s 1ms/step - loss: 0.0509 - accuracy: 0.9776\n",
      "Epoch 142/200\n",
      "320/320 [==============================] - 0s 1ms/step - loss: 0.0520 - accuracy: 0.9785\n",
      "Epoch 143/200\n",
      "320/320 [==============================] - 0s 1ms/step - loss: 0.0475 - accuracy: 0.9812\n",
      "Epoch 144/200\n",
      "320/320 [==============================] - 0s 1ms/step - loss: 0.0485 - accuracy: 0.9824\n",
      "Epoch 145/200\n",
      "320/320 [==============================] - 0s 1ms/step - loss: 0.0442 - accuracy: 0.9837\n",
      "Epoch 146/200\n",
      "320/320 [==============================] - 0s 1ms/step - loss: 0.0440 - accuracy: 0.9844\n",
      "Epoch 147/200\n",
      "320/320 [==============================] - 0s 1ms/step - loss: 0.0447 - accuracy: 0.9845\n",
      "Epoch 148/200\n",
      "320/320 [==============================] - 0s 1ms/step - loss: 0.0385 - accuracy: 0.9850\n",
      "Epoch 149/200\n",
      "320/320 [==============================] - 0s 1ms/step - loss: 0.0393 - accuracy: 0.9848\n",
      "Epoch 150/200\n",
      "320/320 [==============================] - 0s 1ms/step - loss: 0.0544 - accuracy: 0.9774\n",
      "Epoch 151/200\n",
      "320/320 [==============================] - 0s 1ms/step - loss: 0.0398 - accuracy: 0.9855\n",
      "Epoch 152/200\n",
      "320/320 [==============================] - 0s 1ms/step - loss: 0.0396 - accuracy: 0.9846\n",
      "Epoch 153/200\n",
      "320/320 [==============================] - 0s 1ms/step - loss: 0.0429 - accuracy: 0.9813\n",
      "Epoch 154/200\n",
      "320/320 [==============================] - 0s 1ms/step - loss: 0.0417 - accuracy: 0.9824\n",
      "Epoch 155/200\n",
      "320/320 [==============================] - ETA: 0s - loss: 0.0404 - accuracy: 0.98 - 0s 1ms/step - loss: 0.0405 - accuracy: 0.9851\n",
      "Epoch 156/200\n",
      "320/320 [==============================] - 0s 1ms/step - loss: 0.0394 - accuracy: 0.9848\n",
      "Epoch 157/200\n",
      "320/320 [==============================] - 0s 1ms/step - loss: 0.0431 - accuracy: 0.9836\n",
      "Epoch 158/200\n",
      "320/320 [==============================] - 0s 1ms/step - loss: 0.0392 - accuracy: 0.9857: 0s - loss: 0.0363 - accu\n",
      "Epoch 159/200\n"
     ]
    },
    {
     "name": "stdout",
     "output_type": "stream",
     "text": [
      "320/320 [==============================] - 0s 1ms/step - loss: 0.0391 - accuracy: 0.9872\n",
      "Epoch 160/200\n",
      "320/320 [==============================] - 0s 1ms/step - loss: 0.0381 - accuracy: 0.9882\n",
      "Epoch 161/200\n",
      "320/320 [==============================] - 0s 1ms/step - loss: 0.0367 - accuracy: 0.9873\n",
      "Epoch 162/200\n",
      "320/320 [==============================] - 0s 1ms/step - loss: 0.0392 - accuracy: 0.9835\n",
      "Epoch 163/200\n",
      "320/320 [==============================] - 0s 1ms/step - loss: 0.0478 - accuracy: 0.9819\n",
      "Epoch 164/200\n",
      "320/320 [==============================] - 0s 1ms/step - loss: 0.0346 - accuracy: 0.9875\n",
      "Epoch 165/200\n",
      "320/320 [==============================] - 0s 1ms/step - loss: 0.0349 - accuracy: 0.9865\n",
      "Epoch 166/200\n",
      "320/320 [==============================] - 0s 1ms/step - loss: 0.0346 - accuracy: 0.9890\n",
      "Epoch 167/200\n",
      "320/320 [==============================] - 0s 1ms/step - loss: 0.0408 - accuracy: 0.9841\n",
      "Epoch 168/200\n",
      "320/320 [==============================] - 0s 1ms/step - loss: 0.0290 - accuracy: 0.9903\n",
      "Epoch 169/200\n",
      "320/320 [==============================] - 0s 1ms/step - loss: 0.0346 - accuracy: 0.9873\n",
      "Epoch 170/200\n",
      "320/320 [==============================] - 0s 1ms/step - loss: 0.0378 - accuracy: 0.9871\n",
      "Epoch 171/200\n",
      "320/320 [==============================] - 0s 1ms/step - loss: 0.0382 - accuracy: 0.9867\n",
      "Epoch 172/200\n",
      "320/320 [==============================] - 0s 1ms/step - loss: 0.0429 - accuracy: 0.9852\n",
      "Epoch 173/200\n",
      "320/320 [==============================] - 0s 1ms/step - loss: 0.0303 - accuracy: 0.9904\n",
      "Epoch 174/200\n",
      "320/320 [==============================] - 0s 1ms/step - loss: 0.0322 - accuracy: 0.9878\n",
      "Epoch 175/200\n",
      "320/320 [==============================] - 0s 1ms/step - loss: 0.0305 - accuracy: 0.9893\n",
      "Epoch 176/200\n",
      "320/320 [==============================] - 0s 1ms/step - loss: 0.0295 - accuracy: 0.9893\n",
      "Epoch 177/200\n",
      "320/320 [==============================] - 0s 1ms/step - loss: 0.0366 - accuracy: 0.9867\n",
      "Epoch 178/200\n",
      "320/320 [==============================] - 0s 1ms/step - loss: 0.0379 - accuracy: 0.9865\n",
      "Epoch 179/200\n",
      "320/320 [==============================] - 0s 1ms/step - loss: 0.0293 - accuracy: 0.9888\n",
      "Epoch 180/200\n",
      "320/320 [==============================] - 0s 1ms/step - loss: 0.0373 - accuracy: 0.9874\n",
      "Epoch 181/200\n",
      "320/320 [==============================] - 0s 1ms/step - loss: 0.0286 - accuracy: 0.9911\n",
      "Epoch 182/200\n",
      "320/320 [==============================] - 0s 1ms/step - loss: 0.0352 - accuracy: 0.9881\n",
      "Epoch 183/200\n",
      "320/320 [==============================] - 0s 1ms/step - loss: 0.0297 - accuracy: 0.9893\n",
      "Epoch 184/200\n",
      "320/320 [==============================] - 0s 1ms/step - loss: 0.0302 - accuracy: 0.9894\n",
      "Epoch 185/200\n",
      "320/320 [==============================] - 0s 1ms/step - loss: 0.0275 - accuracy: 0.9909\n",
      "Epoch 186/200\n",
      "320/320 [==============================] - 0s 1ms/step - loss: 0.0309 - accuracy: 0.9889\n",
      "Epoch 187/200\n",
      "320/320 [==============================] - 0s 1ms/step - loss: 0.0401 - accuracy: 0.9861\n",
      "Epoch 188/200\n",
      "320/320 [==============================] - 0s 1ms/step - loss: 0.0273 - accuracy: 0.9900\n",
      "Epoch 189/200\n",
      "320/320 [==============================] - 0s 1ms/step - loss: 0.0292 - accuracy: 0.9918\n",
      "Epoch 190/200\n",
      "320/320 [==============================] - 0s 1ms/step - loss: 0.0449 - accuracy: 0.9816\n",
      "Epoch 191/200\n",
      "320/320 [==============================] - 0s 1ms/step - loss: 0.0249 - accuracy: 0.9933\n",
      "Epoch 192/200\n",
      "320/320 [==============================] - 0s 1ms/step - loss: 0.0262 - accuracy: 0.9917\n",
      "Epoch 193/200\n",
      "320/320 [==============================] - 0s 1ms/step - loss: 0.0225 - accuracy: 0.9938\n",
      "Epoch 194/200\n",
      "320/320 [==============================] - 0s 1ms/step - loss: 0.0275 - accuracy: 0.9899\n",
      "Epoch 195/200\n",
      "320/320 [==============================] - 0s 1ms/step - loss: 0.0263 - accuracy: 0.9917\n",
      "Epoch 196/200\n",
      "320/320 [==============================] - 0s 1ms/step - loss: 0.0305 - accuracy: 0.9889\n",
      "Epoch 197/200\n",
      "320/320 [==============================] - 0s 1ms/step - loss: 0.0465 - accuracy: 0.9824\n",
      "Epoch 198/200\n",
      "320/320 [==============================] - 0s 1ms/step - loss: 0.0218 - accuracy: 0.9938\n",
      "Epoch 199/200\n",
      "320/320 [==============================] - 0s 1ms/step - loss: 0.0225 - accuracy: 0.9925\n",
      "Epoch 200/200\n",
      "320/320 [==============================] - 0s 1ms/step - loss: 0.0243 - accuracy: 0.9932\n"
     ]
    },
    {
     "data": {
      "text/plain": [
       "<tensorflow.python.keras.callbacks.History at 0x1c56862beb0>"
      ]
     },
     "execution_count": 45,
     "metadata": {},
     "output_type": "execute_result"
    }
   ],
   "source": [
    "ANN_model.fit(x_train, y_train, batch_size = 32, epochs = 200)"
   ]
  },
  {
   "cell_type": "code",
   "execution_count": 46,
   "metadata": {},
   "outputs": [],
   "source": [
    "loss, acc_ann = ANN_model.evaluate(x_train, y_train, verbose = 0)"
   ]
  },
  {
   "cell_type": "code",
   "execution_count": 47,
   "metadata": {},
   "outputs": [
    {
     "name": "stdout",
     "output_type": "stream",
     "text": [
      "0.994025468826294\n"
     ]
    }
   ],
   "source": [
    "print(acc_ann)"
   ]
  },
  {
   "cell_type": "code",
   "execution_count": 48,
   "metadata": {},
   "outputs": [],
   "source": [
    "y_pred = ANN_model.predict(x_test)\n",
    "y_pred[y_pred <= 0.5] = 0\n",
    "y_pred[y_pred > 0.5] = 1"
   ]
  },
  {
   "cell_type": "markdown",
   "metadata": {},
   "source": [
    "ACCURACY COMPARISON OF ALL THE MODELS"
   ]
  },
  {
   "cell_type": "code",
   "execution_count": 49,
   "metadata": {},
   "outputs": [],
   "source": [
    "scores = [acc_lr * 100,\n",
    "          acc_knn * 100,\n",
    "          acc_svm * 100,\n",
    "          acc_nb * 100,\n",
    "          acc_dt * 100,\n",
    "          acc_rf * 100,\n",
    "          acc_ann * 100]"
   ]
  },
  {
   "cell_type": "code",
   "execution_count": 50,
   "metadata": {},
   "outputs": [],
   "source": [
    "names = [\"Logistic Regression\",\n",
    "        \"K-Nearest Neighbors\",\n",
    "        \"Support Vector Machine\",\n",
    "        \"Naive Bayes\",\n",
    "        \"Decision Tree\",\n",
    "        \"Random Forest\",\n",
    "        \"Artificial Neural Network\"]"
   ]
  },
  {
   "cell_type": "code",
   "execution_count": 51,
   "metadata": {},
   "outputs": [],
   "source": [
    "df = pd.DataFrame()\n",
    "df['Algorithm Name'] = names\n",
    "df['Accuracy Score (%)'] = scores\n",
    "df = df.sort_values('Accuracy Score (%)', ascending = False)"
   ]
  },
  {
   "cell_type": "code",
   "execution_count": 52,
   "metadata": {
    "scrolled": true
   },
   "outputs": [
    {
     "data": {
      "text/html": [
       "<div>\n",
       "<style scoped>\n",
       "    .dataframe tbody tr th:only-of-type {\n",
       "        vertical-align: middle;\n",
       "    }\n",
       "\n",
       "    .dataframe tbody tr th {\n",
       "        vertical-align: top;\n",
       "    }\n",
       "\n",
       "    .dataframe thead th {\n",
       "        text-align: right;\n",
       "    }\n",
       "</style>\n",
       "<table border=\"1\" class=\"dataframe\">\n",
       "  <thead>\n",
       "    <tr style=\"text-align: right;\">\n",
       "      <th></th>\n",
       "      <th>Algorithm Name</th>\n",
       "      <th>Accuracy Score (%)</th>\n",
       "    </tr>\n",
       "  </thead>\n",
       "  <tbody>\n",
       "    <tr>\n",
       "      <th>6</th>\n",
       "      <td>Artificial Neural Network</td>\n",
       "      <td>99.402547</td>\n",
       "    </tr>\n",
       "    <tr>\n",
       "      <th>5</th>\n",
       "      <td>Random Forest</td>\n",
       "      <td>97.058824</td>\n",
       "    </tr>\n",
       "    <tr>\n",
       "      <th>4</th>\n",
       "      <td>Decision Tree</td>\n",
       "      <td>96.725860</td>\n",
       "    </tr>\n",
       "    <tr>\n",
       "      <th>1</th>\n",
       "      <td>K-Nearest Neighbors</td>\n",
       "      <td>86.570477</td>\n",
       "    </tr>\n",
       "    <tr>\n",
       "      <th>3</th>\n",
       "      <td>Naive Bayes</td>\n",
       "      <td>84.961154</td>\n",
       "    </tr>\n",
       "    <tr>\n",
       "      <th>0</th>\n",
       "      <td>Logistic Regression</td>\n",
       "      <td>84.850166</td>\n",
       "    </tr>\n",
       "    <tr>\n",
       "      <th>2</th>\n",
       "      <td>Support Vector Machine</td>\n",
       "      <td>84.794673</td>\n",
       "    </tr>\n",
       "  </tbody>\n",
       "</table>\n",
       "</div>"
      ],
      "text/plain": [
       "              Algorithm Name  Accuracy Score (%)\n",
       "6  Artificial Neural Network           99.402547\n",
       "5              Random Forest           97.058824\n",
       "4              Decision Tree           96.725860\n",
       "1        K-Nearest Neighbors           86.570477\n",
       "3                Naive Bayes           84.961154\n",
       "0        Logistic Regression           84.850166\n",
       "2     Support Vector Machine           84.794673"
      ]
     },
     "execution_count": 52,
     "metadata": {},
     "output_type": "execute_result"
    }
   ],
   "source": [
    "df"
   ]
  },
  {
   "cell_type": "code",
   "execution_count": 53,
   "metadata": {},
   "outputs": [],
   "source": [
    "import matplotlib.pyplot as plt\n",
    "import seaborn as sns"
   ]
  },
  {
   "cell_type": "code",
   "execution_count": 54,
   "metadata": {
    "scrolled": true
   },
   "outputs": [
    {
     "data": {
      "image/png": "[encoded data removed]",
      "text/plain": [
       "<Figure size 720x360 with 1 Axes>"
      ]
     },
     "metadata": {
      "needs_background": "light"
     },
     "output_type": "display_data"
    }
   ],
   "source": [
    "fig = plt.subplots(figsize = (10, 5))\n",
    "ax = sns.barplot(x = \"Accuracy Score (%)\", y = \"Algorithm Name\", data = df)"
   ]
  },
  {
   "cell_type": "markdown",
   "metadata": {},
   "source": [
    "SAVING THE BEST TRAINED MODEL"
   ]
  },
  {
   "cell_type": "code",
   "execution_count": 55,
   "metadata": {},
   "outputs": [],
   "source": [
    "import os.path"
   ]
  },
  {
   "cell_type": "code",
   "execution_count": 56,
   "metadata": {},
   "outputs": [],
   "source": [
    "if os.path.isfile('../model/project_model.h5') is False:\n",
    "    ANN_model.save('../model/project_model.h5')"
   ]
  },
  {
   "cell_type": "code",
   "execution_count": null,
   "metadata": {},
   "outputs": [],
   "source": []
  }
 ],
 "metadata": {
  "kernelspec": {
   "display_name": "Python 3",
   "language": "python",
   "name": "python3"
  },
  "language_info": {
   "codemirror_mode": {
    "name": "ipython",
    "version": 3
   },
   "file_extension": ".py",
   "mimetype": "text/x-python",
   "name": "python",
   "nbconvert_exporter": "python",
   "pygments_lexer": "ipython3",
   "version": "3.8.8"
  }
 },
 "nbformat": 4,
 "nbformat_minor": 4
}
