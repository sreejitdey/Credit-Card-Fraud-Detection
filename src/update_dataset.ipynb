{
 "cells": [
  {
   "cell_type": "markdown",
   "id": "3279e32e",
   "metadata": {},
   "source": [
    "# CREATING THE FINAL DATASET"
   ]
  },
  {
   "cell_type": "markdown",
   "id": "d73598ff",
   "metadata": {},
   "source": [
    "IMPORTING THE RAW DATASET"
   ]
  },
  {
   "cell_type": "code",
   "execution_count": 1,
   "id": "ee03cf6c",
   "metadata": {},
   "outputs": [],
   "source": [
    "import pandas as pd"
   ]
  },
  {
   "cell_type": "code",
   "execution_count": 2,
   "id": "1d519db4",
   "metadata": {},
   "outputs": [],
   "source": [
    "dataset = pd.read_csv('../dataset/project_dataset.csv')"
   ]
  },
  {
   "cell_type": "code",
   "execution_count": 3,
   "id": "7528f19b",
   "metadata": {},
   "outputs": [
    {
     "data": {
      "text/html": [
       "<div>\n",
       "<style scoped>\n",
       "    .dataframe tbody tr th:only-of-type {\n",
       "        vertical-align: middle;\n",
       "    }\n",
       "\n",
       "    .dataframe tbody tr th {\n",
       "        vertical-align: top;\n",
       "    }\n",
       "\n",
       "    .dataframe thead th {\n",
       "        text-align: right;\n",
       "    }\n",
       "</style>\n",
       "<table border=\"1\" class=\"dataframe\">\n",
       "  <thead>\n",
       "    <tr style=\"text-align: right;\">\n",
       "      <th></th>\n",
       "      <th>trans_id</th>\n",
       "      <th>trans_datetime</th>\n",
       "      <th>merchant</th>\n",
       "      <th>category</th>\n",
       "      <th>card_number</th>\n",
       "      <th>card_holder_name</th>\n",
       "      <th>gender</th>\n",
       "      <th>dob</th>\n",
       "      <th>trans_amount</th>\n",
       "      <th>state</th>\n",
       "      <th>zip</th>\n",
       "      <th>fraud_risk</th>\n",
       "    </tr>\n",
       "  </thead>\n",
       "  <tbody>\n",
       "    <tr>\n",
       "      <th>0</th>\n",
       "      <td>0b242abb623afc578575680df30655b9</td>\n",
       "      <td>01-01-2019 00:00</td>\n",
       "      <td>fraud_Rippin, Kub and Mann</td>\n",
       "      <td>misc_net</td>\n",
       "      <td>2.700000e+15</td>\n",
       "      <td>Jennifer Banks</td>\n",
       "      <td>F</td>\n",
       "      <td>09-03-1988</td>\n",
       "      <td>4.97</td>\n",
       "      <td>NC</td>\n",
       "      <td>28654</td>\n",
       "      <td>0</td>\n",
       "    </tr>\n",
       "    <tr>\n",
       "      <th>1</th>\n",
       "      <td>1f76529f8574734946361c461b024d99</td>\n",
       "      <td>01-01-2019 00:00</td>\n",
       "      <td>fraud_Heller, Gutmann and Zieme</td>\n",
       "      <td>grocery_pos</td>\n",
       "      <td>6.300000e+11</td>\n",
       "      <td>Stephanie Gill</td>\n",
       "      <td>F</td>\n",
       "      <td>21-06-1978</td>\n",
       "      <td>107.23</td>\n",
       "      <td>WA</td>\n",
       "      <td>99160</td>\n",
       "      <td>0</td>\n",
       "    </tr>\n",
       "    <tr>\n",
       "      <th>2</th>\n",
       "      <td>a1a22d70485983eac12b5b88dad1cf95</td>\n",
       "      <td>01-01-2019 00:00</td>\n",
       "      <td>fraud_Lind-Buckridge</td>\n",
       "      <td>entertainment</td>\n",
       "      <td>3.890000e+13</td>\n",
       "      <td>Edward Sanchez</td>\n",
       "      <td>M</td>\n",
       "      <td>19-01-1962</td>\n",
       "      <td>220.11</td>\n",
       "      <td>ID</td>\n",
       "      <td>83252</td>\n",
       "      <td>0</td>\n",
       "    </tr>\n",
       "    <tr>\n",
       "      <th>3</th>\n",
       "      <td>6b849c168bdad6f867558c3793159a81</td>\n",
       "      <td>01-01-2019 00:01</td>\n",
       "      <td>fraud_Kutch, Hermiston and Farrell</td>\n",
       "      <td>gas_transport</td>\n",
       "      <td>3.530000e+15</td>\n",
       "      <td>Jeremy White</td>\n",
       "      <td>M</td>\n",
       "      <td>12-01-1967</td>\n",
       "      <td>45.00</td>\n",
       "      <td>MT</td>\n",
       "      <td>59632</td>\n",
       "      <td>0</td>\n",
       "    </tr>\n",
       "    <tr>\n",
       "      <th>4</th>\n",
       "      <td>a41d7549acf90789359a9aa5346dcb46</td>\n",
       "      <td>01-01-2019 00:03</td>\n",
       "      <td>fraud_Keeling-Crist</td>\n",
       "      <td>misc_pos</td>\n",
       "      <td>3.760000e+14</td>\n",
       "      <td>Tyler Garcia</td>\n",
       "      <td>M</td>\n",
       "      <td>28-03-1986</td>\n",
       "      <td>41.96</td>\n",
       "      <td>VA</td>\n",
       "      <td>24433</td>\n",
       "      <td>0</td>\n",
       "    </tr>\n",
       "  </tbody>\n",
       "</table>\n",
       "</div>"
      ],
      "text/plain": [
       "                           trans_id    trans_datetime  \\\n",
       "0  0b242abb623afc578575680df30655b9  01-01-2019 00:00   \n",
       "1  1f76529f8574734946361c461b024d99  01-01-2019 00:00   \n",
       "2  a1a22d70485983eac12b5b88dad1cf95  01-01-2019 00:00   \n",
       "3  6b849c168bdad6f867558c3793159a81  01-01-2019 00:01   \n",
       "4  a41d7549acf90789359a9aa5346dcb46  01-01-2019 00:03   \n",
       "\n",
       "                             merchant       category   card_number  \\\n",
       "0          fraud_Rippin, Kub and Mann       misc_net  2.700000e+15   \n",
       "1     fraud_Heller, Gutmann and Zieme    grocery_pos  6.300000e+11   \n",
       "2                fraud_Lind-Buckridge  entertainment  3.890000e+13   \n",
       "3  fraud_Kutch, Hermiston and Farrell  gas_transport  3.530000e+15   \n",
       "4                 fraud_Keeling-Crist       misc_pos  3.760000e+14   \n",
       "\n",
       "  card_holder_name gender         dob  trans_amount state    zip  fraud_risk  \n",
       "0   Jennifer Banks      F  09-03-1988          4.97    NC  28654           0  \n",
       "1   Stephanie Gill      F  21-06-1978        107.23    WA  99160           0  \n",
       "2   Edward Sanchez      M  19-01-1962        220.11    ID  83252           0  \n",
       "3     Jeremy White      M  12-01-1967         45.00    MT  59632           0  \n",
       "4     Tyler Garcia      M  28-03-1986         41.96    VA  24433           0  "
      ]
     },
     "execution_count": 3,
     "metadata": {},
     "output_type": "execute_result"
    }
   ],
   "source": [
    "dataset.head()"
   ]
  },
  {
   "cell_type": "markdown",
   "id": "e1eb503f",
   "metadata": {},
   "source": [
    "ANALYSING THE DATASET"
   ]
  },
  {
   "cell_type": "code",
   "execution_count": 4,
   "id": "ed5f95ec",
   "metadata": {
    "scrolled": true
   },
   "outputs": [
    {
     "data": {
      "text/plain": [
       "(1048575, 12)"
      ]
     },
     "execution_count": 4,
     "metadata": {},
     "output_type": "execute_result"
    }
   ],
   "source": [
    "dataset.shape"
   ]
  },
  {
   "cell_type": "code",
   "execution_count": 5,
   "id": "707ce912",
   "metadata": {},
   "outputs": [
    {
     "name": "stdout",
     "output_type": "stream",
     "text": [
      "<class 'pandas.core.frame.DataFrame'>\n",
      "RangeIndex: 1048575 entries, 0 to 1048574\n",
      "Data columns (total 12 columns):\n",
      " #   Column            Non-Null Count    Dtype  \n",
      "---  ------            --------------    -----  \n",
      " 0   trans_id          1048575 non-null  object \n",
      " 1   trans_datetime    1048575 non-null  object \n",
      " 2   merchant          1048575 non-null  object \n",
      " 3   category          1048575 non-null  object \n",
      " 4   card_number       1048575 non-null  float64\n",
      " 5   card_holder_name  1048575 non-null  object \n",
      " 6   gender            1048575 non-null  object \n",
      " 7   dob               1048575 non-null  object \n",
      " 8   trans_amount      1048575 non-null  float64\n",
      " 9   state             1048575 non-null  object \n",
      " 10  zip               1048575 non-null  int64  \n",
      " 11  fraud_risk        1048575 non-null  int64  \n",
      "dtypes: float64(2), int64(2), object(8)\n",
      "memory usage: 96.0+ MB\n"
     ]
    }
   ],
   "source": [
    "dataset.info()"
   ]
  },
  {
   "cell_type": "code",
   "execution_count": 6,
   "id": "8e8dd1e3",
   "metadata": {},
   "outputs": [],
   "source": [
    "fraud = dataset[dataset['fraud_risk'] == 1]\n",
    "valid = dataset[dataset['fraud_risk'] == 0]"
   ]
  },
  {
   "cell_type": "code",
   "execution_count": 7,
   "id": "3790ec99",
   "metadata": {},
   "outputs": [
    {
     "name": "stdout",
     "output_type": "stream",
     "text": [
      "Number of fraud data : 6006\n",
      "Number of valid data : 1042569\n"
     ]
    }
   ],
   "source": [
    "print(\"Number of fraud data :\", len(fraud))\n",
    "print(\"Number of valid data :\", len(valid))"
   ]
  },
  {
   "cell_type": "code",
   "execution_count": 8,
   "id": "0b1ecd5c",
   "metadata": {},
   "outputs": [],
   "source": [
    "import seaborn as sns"
   ]
  },
  {
   "cell_type": "code",
   "execution_count": 9,
   "id": "91866465",
   "metadata": {},
   "outputs": [
    {
     "data": {
      "text/plain": [
       "<AxesSubplot:xlabel='fraud_risk', ylabel='count'>"
      ]
     },
     "execution_count": 9,
     "metadata": {},
     "output_type": "execute_result"
    },
    {
     "data": {
      "image/png": "[encoded data removed]",
      "text/plain": [
       "<Figure size 432x288 with 1 Axes>"
      ]
     },
     "metadata": {
      "needs_background": "light"
     },
     "output_type": "display_data"
    }
   ],
   "source": [
    "sns.countplot(x = 'fraud_risk', data = dataset)"
   ]
  },
  {
   "cell_type": "markdown",
   "id": "f5474ba7",
   "metadata": {},
   "source": [
    "BALANCING THE DATASET USING \"UNDER-SAMPLING\""
   ]
  },
  {
   "cell_type": "code",
   "execution_count": 10,
   "id": "8a37d50a",
   "metadata": {},
   "outputs": [],
   "source": [
    "valid = valid.sample(len(fraud))"
   ]
  },
  {
   "cell_type": "code",
   "execution_count": 11,
   "id": "5eac9fd6",
   "metadata": {},
   "outputs": [],
   "source": [
    "dataset = pd.concat([valid, fraud], axis = 0)"
   ]
  },
  {
   "cell_type": "code",
   "execution_count": 12,
   "id": "7c7e3937",
   "metadata": {},
   "outputs": [],
   "source": [
    "dataset = dataset.sort_index()"
   ]
  },
  {
   "cell_type": "code",
   "execution_count": 13,
   "id": "fc6a1473",
   "metadata": {},
   "outputs": [],
   "source": [
    "dataset.reset_index(drop = True, inplace = True)"
   ]
  },
  {
   "cell_type": "markdown",
   "id": "1a81583e",
   "metadata": {},
   "source": [
    "CALCULATING THE TRANSACTION TIME, DAY, MONTH, AND YEAR"
   ]
  },
  {
   "cell_type": "code",
   "execution_count": 14,
   "id": "3712d574",
   "metadata": {},
   "outputs": [],
   "source": [
    "dataset['trans_datetime'] = pd.to_datetime(dataset['trans_datetime'])"
   ]
  },
  {
   "cell_type": "code",
   "execution_count": 15,
   "id": "c91f33e0",
   "metadata": {},
   "outputs": [],
   "source": [
    "dataset.insert(2, 'trans_hour', dataset['trans_datetime'].dt.hour)\n",
    "dataset.insert(3, 'trans_day', dataset['trans_datetime'].dt.day)\n",
    "dataset.insert(4, 'trans_month', dataset['trans_datetime'].dt.month)\n",
    "dataset.insert(5, 'trans_year', dataset['trans_datetime'].dt.year)"
   ]
  },
  {
   "cell_type": "markdown",
   "id": "a6dfb769",
   "metadata": {},
   "source": [
    "CALCULATING THE AGE"
   ]
  },
  {
   "cell_type": "code",
   "execution_count": 16,
   "id": "4f7c348c",
   "metadata": {},
   "outputs": [],
   "source": [
    "dataset['dob'] = pd.to_datetime(dataset['dob'])"
   ]
  },
  {
   "cell_type": "code",
   "execution_count": 17,
   "id": "1af2eaec",
   "metadata": {},
   "outputs": [],
   "source": [
    "import numpy as np"
   ]
  },
  {
   "cell_type": "code",
   "execution_count": 18,
   "id": "8eff002e",
   "metadata": {},
   "outputs": [],
   "source": [
    "dataset.insert(11, 'age', np.round((dataset['trans_datetime'] - dataset['dob']) // np.timedelta64(1, 'Y')))"
   ]
  },
  {
   "cell_type": "markdown",
   "id": "5654a687",
   "metadata": {},
   "source": [
    "DELETING THE REDUNDANT FEATURES"
   ]
  },
  {
   "cell_type": "code",
   "execution_count": 19,
   "id": "90398102",
   "metadata": {},
   "outputs": [],
   "source": [
    "del dataset['trans_id']\n",
    "del dataset['trans_datetime']\n",
    "del dataset['merchant']\n",
    "del dataset['card_holder_name']\n",
    "del dataset['gender']\n",
    "del dataset['dob']"
   ]
  },
  {
   "cell_type": "code",
   "execution_count": 20,
   "id": "25658bf2",
   "metadata": {},
   "outputs": [
    {
     "data": {
      "text/html": [
       "<div>\n",
       "<style scoped>\n",
       "    .dataframe tbody tr th:only-of-type {\n",
       "        vertical-align: middle;\n",
       "    }\n",
       "\n",
       "    .dataframe tbody tr th {\n",
       "        vertical-align: top;\n",
       "    }\n",
       "\n",
       "    .dataframe thead th {\n",
       "        text-align: right;\n",
       "    }\n",
       "</style>\n",
       "<table border=\"1\" class=\"dataframe\">\n",
       "  <thead>\n",
       "    <tr style=\"text-align: right;\">\n",
       "      <th></th>\n",
       "      <th>trans_hour</th>\n",
       "      <th>trans_day</th>\n",
       "      <th>trans_month</th>\n",
       "      <th>trans_year</th>\n",
       "      <th>category</th>\n",
       "      <th>card_number</th>\n",
       "      <th>age</th>\n",
       "      <th>trans_amount</th>\n",
       "      <th>state</th>\n",
       "      <th>zip</th>\n",
       "      <th>fraud_risk</th>\n",
       "    </tr>\n",
       "  </thead>\n",
       "  <tbody>\n",
       "    <tr>\n",
       "      <th>0</th>\n",
       "      <td>0</td>\n",
       "      <td>1</td>\n",
       "      <td>1</td>\n",
       "      <td>2019</td>\n",
       "      <td>misc_net</td>\n",
       "      <td>4.640000e+15</td>\n",
       "      <td>31</td>\n",
       "      <td>177.57</td>\n",
       "      <td>UT</td>\n",
       "      <td>84540</td>\n",
       "      <td>0</td>\n",
       "    </tr>\n",
       "    <tr>\n",
       "      <th>1</th>\n",
       "      <td>7</td>\n",
       "      <td>1</td>\n",
       "      <td>1</td>\n",
       "      <td>2019</td>\n",
       "      <td>shopping_net</td>\n",
       "      <td>4.490000e+18</td>\n",
       "      <td>89</td>\n",
       "      <td>4.56</td>\n",
       "      <td>SC</td>\n",
       "      <td>29170</td>\n",
       "      <td>0</td>\n",
       "    </tr>\n",
       "    <tr>\n",
       "      <th>2</th>\n",
       "      <td>8</td>\n",
       "      <td>1</td>\n",
       "      <td>1</td>\n",
       "      <td>2019</td>\n",
       "      <td>misc_net</td>\n",
       "      <td>2.510000e+15</td>\n",
       "      <td>62</td>\n",
       "      <td>3.49</td>\n",
       "      <td>MI</td>\n",
       "      <td>48088</td>\n",
       "      <td>0</td>\n",
       "    </tr>\n",
       "    <tr>\n",
       "      <th>3</th>\n",
       "      <td>8</td>\n",
       "      <td>1</td>\n",
       "      <td>1</td>\n",
       "      <td>2019</td>\n",
       "      <td>grocery_pos</td>\n",
       "      <td>4.590000e+12</td>\n",
       "      <td>65</td>\n",
       "      <td>84.04</td>\n",
       "      <td>MO</td>\n",
       "      <td>64470</td>\n",
       "      <td>0</td>\n",
       "    </tr>\n",
       "    <tr>\n",
       "      <th>4</th>\n",
       "      <td>9</td>\n",
       "      <td>1</td>\n",
       "      <td>1</td>\n",
       "      <td>2019</td>\n",
       "      <td>shopping_net</td>\n",
       "      <td>3.510000e+15</td>\n",
       "      <td>59</td>\n",
       "      <td>8.08</td>\n",
       "      <td>WV</td>\n",
       "      <td>25049</td>\n",
       "      <td>0</td>\n",
       "    </tr>\n",
       "  </tbody>\n",
       "</table>\n",
       "</div>"
      ],
      "text/plain": [
       "   trans_hour  trans_day  trans_month  trans_year      category   card_number  \\\n",
       "0           0          1            1        2019      misc_net  4.640000e+15   \n",
       "1           7          1            1        2019  shopping_net  4.490000e+18   \n",
       "2           8          1            1        2019      misc_net  2.510000e+15   \n",
       "3           8          1            1        2019   grocery_pos  4.590000e+12   \n",
       "4           9          1            1        2019  shopping_net  3.510000e+15   \n",
       "\n",
       "   age  trans_amount state    zip  fraud_risk  \n",
       "0   31        177.57    UT  84540           0  \n",
       "1   89          4.56    SC  29170           0  \n",
       "2   62          3.49    MI  48088           0  \n",
       "3   65         84.04    MO  64470           0  \n",
       "4   59          8.08    WV  25049           0  "
      ]
     },
     "execution_count": 20,
     "metadata": {},
     "output_type": "execute_result"
    }
   ],
   "source": [
    "dataset.head()"
   ]
  },
  {
   "cell_type": "markdown",
   "id": "c255a7c6",
   "metadata": {},
   "source": [
    "USING LABELENCODER"
   ]
  },
  {
   "cell_type": "code",
   "execution_count": 21,
   "id": "64907846",
   "metadata": {},
   "outputs": [],
   "source": [
    "from sklearn.preprocessing import LabelEncoder\n",
    "labelencoder = LabelEncoder()"
   ]
  },
  {
   "cell_type": "code",
   "execution_count": 22,
   "id": "05de0703",
   "metadata": {},
   "outputs": [],
   "source": [
    "dataset['category'] = labelencoder.fit_transform(dataset['category'])\n",
    "dataset['state'] = labelencoder.fit_transform(dataset['state'])"
   ]
  },
  {
   "cell_type": "code",
   "execution_count": 23,
   "id": "a49525f7",
   "metadata": {},
   "outputs": [
    {
     "data": {
      "text/html": [
       "<div>\n",
       "<style scoped>\n",
       "    .dataframe tbody tr th:only-of-type {\n",
       "        vertical-align: middle;\n",
       "    }\n",
       "\n",
       "    .dataframe tbody tr th {\n",
       "        vertical-align: top;\n",
       "    }\n",
       "\n",
       "    .dataframe thead th {\n",
       "        text-align: right;\n",
       "    }\n",
       "</style>\n",
       "<table border=\"1\" class=\"dataframe\">\n",
       "  <thead>\n",
       "    <tr style=\"text-align: right;\">\n",
       "      <th></th>\n",
       "      <th>trans_hour</th>\n",
       "      <th>trans_day</th>\n",
       "      <th>trans_month</th>\n",
       "      <th>trans_year</th>\n",
       "      <th>category</th>\n",
       "      <th>card_number</th>\n",
       "      <th>age</th>\n",
       "      <th>trans_amount</th>\n",
       "      <th>state</th>\n",
       "      <th>zip</th>\n",
       "      <th>fraud_risk</th>\n",
       "    </tr>\n",
       "  </thead>\n",
       "  <tbody>\n",
       "    <tr>\n",
       "      <th>0</th>\n",
       "      <td>0</td>\n",
       "      <td>1</td>\n",
       "      <td>1</td>\n",
       "      <td>2019</td>\n",
       "      <td>8</td>\n",
       "      <td>4.640000e+15</td>\n",
       "      <td>31</td>\n",
       "      <td>177.57</td>\n",
       "      <td>44</td>\n",
       "      <td>84540</td>\n",
       "      <td>0</td>\n",
       "    </tr>\n",
       "    <tr>\n",
       "      <th>1</th>\n",
       "      <td>7</td>\n",
       "      <td>1</td>\n",
       "      <td>1</td>\n",
       "      <td>2019</td>\n",
       "      <td>11</td>\n",
       "      <td>4.490000e+18</td>\n",
       "      <td>89</td>\n",
       "      <td>4.56</td>\n",
       "      <td>40</td>\n",
       "      <td>29170</td>\n",
       "      <td>0</td>\n",
       "    </tr>\n",
       "    <tr>\n",
       "      <th>2</th>\n",
       "      <td>8</td>\n",
       "      <td>1</td>\n",
       "      <td>1</td>\n",
       "      <td>2019</td>\n",
       "      <td>8</td>\n",
       "      <td>2.510000e+15</td>\n",
       "      <td>62</td>\n",
       "      <td>3.49</td>\n",
       "      <td>22</td>\n",
       "      <td>48088</td>\n",
       "      <td>0</td>\n",
       "    </tr>\n",
       "    <tr>\n",
       "      <th>3</th>\n",
       "      <td>8</td>\n",
       "      <td>1</td>\n",
       "      <td>1</td>\n",
       "      <td>2019</td>\n",
       "      <td>4</td>\n",
       "      <td>4.590000e+12</td>\n",
       "      <td>65</td>\n",
       "      <td>84.04</td>\n",
       "      <td>24</td>\n",
       "      <td>64470</td>\n",
       "      <td>0</td>\n",
       "    </tr>\n",
       "    <tr>\n",
       "      <th>4</th>\n",
       "      <td>9</td>\n",
       "      <td>1</td>\n",
       "      <td>1</td>\n",
       "      <td>2019</td>\n",
       "      <td>11</td>\n",
       "      <td>3.510000e+15</td>\n",
       "      <td>59</td>\n",
       "      <td>8.08</td>\n",
       "      <td>49</td>\n",
       "      <td>25049</td>\n",
       "      <td>0</td>\n",
       "    </tr>\n",
       "  </tbody>\n",
       "</table>\n",
       "</div>"
      ],
      "text/plain": [
       "   trans_hour  trans_day  trans_month  trans_year  category   card_number  \\\n",
       "0           0          1            1        2019         8  4.640000e+15   \n",
       "1           7          1            1        2019        11  4.490000e+18   \n",
       "2           8          1            1        2019         8  2.510000e+15   \n",
       "3           8          1            1        2019         4  4.590000e+12   \n",
       "4           9          1            1        2019        11  3.510000e+15   \n",
       "\n",
       "   age  trans_amount  state    zip  fraud_risk  \n",
       "0   31        177.57     44  84540           0  \n",
       "1   89          4.56     40  29170           0  \n",
       "2   62          3.49     22  48088           0  \n",
       "3   65         84.04     24  64470           0  \n",
       "4   59          8.08     49  25049           0  "
      ]
     },
     "execution_count": 23,
     "metadata": {},
     "output_type": "execute_result"
    }
   ],
   "source": [
    "dataset.head()"
   ]
  },
  {
   "cell_type": "markdown",
   "id": "4b95da19",
   "metadata": {},
   "source": [
    "SAVING THE FINAL DATASET"
   ]
  },
  {
   "cell_type": "code",
   "execution_count": 24,
   "id": "db82704f",
   "metadata": {},
   "outputs": [],
   "source": [
    "import os.path"
   ]
  },
  {
   "cell_type": "code",
   "execution_count": 25,
   "id": "d26c2fda",
   "metadata": {},
   "outputs": [],
   "source": [
    "if os.path.isfile('../dataset/train_dataset.csv') is False:\n",
    "    dataset.to_csv('../dataset/train_dataset.csv')"
   ]
  },
  {
   "cell_type": "markdown",
   "id": "beae894a",
   "metadata": {},
   "source": [
    "ANALYSING THE UPDATED DATASET"
   ]
  },
  {
   "cell_type": "code",
   "execution_count": 26,
   "id": "009bb7d3",
   "metadata": {},
   "outputs": [
    {
     "data": {
      "text/plain": [
       "(12012, 11)"
      ]
     },
     "execution_count": 26,
     "metadata": {},
     "output_type": "execute_result"
    }
   ],
   "source": [
    "dataset.shape"
   ]
  },
  {
   "cell_type": "code",
   "execution_count": 27,
   "id": "6522186f",
   "metadata": {},
   "outputs": [
    {
     "name": "stdout",
     "output_type": "stream",
     "text": [
      "<class 'pandas.core.frame.DataFrame'>\n",
      "RangeIndex: 12012 entries, 0 to 12011\n",
      "Data columns (total 11 columns):\n",
      " #   Column        Non-Null Count  Dtype  \n",
      "---  ------        --------------  -----  \n",
      " 0   trans_hour    12012 non-null  int64  \n",
      " 1   trans_day     12012 non-null  int64  \n",
      " 2   trans_month   12012 non-null  int64  \n",
      " 3   trans_year    12012 non-null  int64  \n",
      " 4   category      12012 non-null  int32  \n",
      " 5   card_number   12012 non-null  float64\n",
      " 6   age           12012 non-null  int64  \n",
      " 7   trans_amount  12012 non-null  float64\n",
      " 8   state         12012 non-null  int32  \n",
      " 9   zip           12012 non-null  int64  \n",
      " 10  fraud_risk    12012 non-null  int64  \n",
      "dtypes: float64(2), int32(2), int64(7)\n",
      "memory usage: 938.6 KB\n"
     ]
    }
   ],
   "source": [
    "dataset.info()"
   ]
  },
  {
   "cell_type": "code",
   "execution_count": 28,
   "id": "09f2cd5b",
   "metadata": {},
   "outputs": [],
   "source": [
    "fraud = dataset[dataset['fraud_risk'] == 1]\n",
    "valid = dataset[dataset['fraud_risk'] == 0]"
   ]
  },
  {
   "cell_type": "code",
   "execution_count": 29,
   "id": "23b09892",
   "metadata": {},
   "outputs": [
    {
     "name": "stdout",
     "output_type": "stream",
     "text": [
      "Number of fraud data : 6006\n",
      "Number of valid data : 6006\n"
     ]
    }
   ],
   "source": [
    "print(\"Number of fraud data :\", len(fraud))\n",
    "print(\"Number of valid data :\", len(valid))"
   ]
  },
  {
   "cell_type": "code",
   "execution_count": 30,
   "id": "cffb6fc9",
   "metadata": {},
   "outputs": [
    {
     "data": {
      "text/plain": [
       "<AxesSubplot:xlabel='fraud_risk', ylabel='count'>"
      ]
     },
     "execution_count": 30,
     "metadata": {},
     "output_type": "execute_result"
    },
    {
     "data": {
      "image/png": "[encoded data removed]",
      "text/plain": [
       "<Figure size 432x288 with 1 Axes>"
      ]
     },
     "metadata": {
      "needs_background": "light"
     },
     "output_type": "display_data"
    }
   ],
   "source": [
    "sns.countplot(x = 'fraud_risk', data = dataset)"
   ]
  },
  {
   "cell_type": "code",
   "execution_count": 31,
   "id": "8d91d814",
   "metadata": {},
   "outputs": [
    {
     "data": {
      "text/plain": [
       "trans_hour        24\n",
       "trans_day         31\n",
       "trans_month       12\n",
       "trans_year         2\n",
       "category          14\n",
       "card_number      318\n",
       "age               83\n",
       "trans_amount    9543\n",
       "state             51\n",
       "zip              941\n",
       "fraud_risk         2\n",
       "dtype: int64"
      ]
     },
     "execution_count": 31,
     "metadata": {},
     "output_type": "execute_result"
    }
   ],
   "source": [
    "dataset.nunique()"
   ]
  },
  {
   "cell_type": "code",
   "execution_count": null,
   "id": "2a3177fd",
   "metadata": {},
   "outputs": [],
   "source": []
  }
 ],
 "metadata": {
  "kernelspec": {
   "display_name": "Python 3",
   "language": "python",
   "name": "python3"
  },
  "language_info": {
   "codemirror_mode": {
    "name": "ipython",
    "version": 3
   },
   "file_extension": ".py",
   "mimetype": "text/x-python",
   "name": "python",
   "nbconvert_exporter": "python",
   "pygments_lexer": "ipython3",
   "version": "3.8.8"
  }
 },
 "nbformat": 4,
 "nbformat_minor": 5
}
